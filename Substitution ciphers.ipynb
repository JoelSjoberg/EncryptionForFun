{
 "cells": [
  {
   "cell_type": "markdown",
   "metadata": {},
   "source": [
    "# Cipher thorugh substitution\n",
    "\n",
    "A greedy method for producing $M'$ is to substitute each letter by another letter $K$ steps away in the alphabet, where:\n",
    "\n",
    "$$ K \\in \\mathbb{N} $$\n",
    "\n",
    "In order to transform M into M', we use a simple encoding of the letters english letters an commonly used characters like '.' and '('.\n",
    "\n",
    "A more straightforward way of doing this is using the unicode characters cast to int, a implementation for this is also given."
   ]
  },
  {
   "cell_type": "code",
   "execution_count": 1,
   "metadata": {
    "ExecuteTime": {
     "end_time": "2023-04-10T06:18:19.050473Z",
     "start_time": "2023-04-10T06:18:19.045473Z"
    }
   },
   "outputs": [],
   "source": [
    "alphabet = \"abcdefghijklmnopqrstuvwxyzABCDEFGHIJKLMNOPQRSTUVWXYZ,.-_'*¨1234567890+?!:;#¤%&/()=<>|@£$€}{[]\""
   ]
  },
  {
   "cell_type": "code",
   "execution_count": 32,
   "metadata": {
    "ExecuteTime": {
     "end_time": "2023-04-10T06:46:00.497438Z",
     "start_time": "2023-04-10T06:46:00.474161Z"
    }
   },
   "outputs": [],
   "source": [
    "class simpleCeasar:\n",
    "    def __init__(self, K):\n",
    "        self.K = K\n",
    "        \n",
    "        \n",
    "    def encode(self, M):\n",
    "        M_p = \"\"\n",
    "        for i, c in enumerate(M):\n",
    "            \n",
    "            ix = alphabet.index(c)\n",
    "            \n",
    "            c = alphabet[(ix + self.K) % len(alphabet)]\n",
    "            \n",
    "            M_p += c \n",
    "        \n",
    "        return M_p\n",
    "    \n",
    "    def decode(self, M_p):\n",
    "        \n",
    "        M = \"\"\n",
    "        \n",
    "        for i, c in enumerate(M_p):\n",
    "            \n",
    "            ix = alphabet.index(c)\n",
    "\n",
    "            c = alphabet[(ix - self.K) % len(alphabet)]\n",
    "            \n",
    "            M += c \n",
    "            \n",
    "        return M"
   ]
  },
  {
   "cell_type": "code",
   "execution_count": 35,
   "metadata": {
    "ExecuteTime": {
     "end_time": "2023-04-10T06:47:04.797551Z",
     "start_time": "2023-04-10T06:47:04.783569Z"
    }
   },
   "outputs": [
    {
     "name": "stdout",
     "output_type": "stream",
     "text": [
      "Encoded message\n",
      "rovvyhij\n",
      "Decoded message\n",
      "hello{[]\n"
     ]
    }
   ],
   "source": [
    "sc = simpleCeasar(K = 10)\n",
    "\n",
    "print(\"Encoded message\")\n",
    "M_p = sc.encode(\"hello{[]\")\n",
    "print(M_p)\n",
    "print(\"Decoded message\")\n",
    "M = sc.decode(M_p)\n",
    "print(M)"
   ]
  },
  {
   "cell_type": "code",
   "execution_count": null,
   "metadata": {},
   "outputs": [],
   "source": [
    "def CeasarCipher:\n",
    "    def __init__(self, K):\n",
    "        \n",
    "        self.K = K\n",
    "        \n",
    "    def encode(self, message):\n",
    "        M_p = ''\n",
    "        \n",
    "        for m in message:\n",
    "            \n",
    "            enc = int(m) + K\n",
    "            "
   ]
  }
 ],
 "metadata": {
  "kernelspec": {
   "display_name": "Python 3",
   "language": "python",
   "name": "python3"
  },
  "language_info": {
   "codemirror_mode": {
    "name": "ipython",
    "version": 3
   },
   "file_extension": ".py",
   "mimetype": "text/x-python",
   "name": "python",
   "nbconvert_exporter": "python",
   "pygments_lexer": "ipython3",
   "version": "3.6.2"
  },
  "latex_envs": {
   "LaTeX_envs_menu_present": true,
   "autoclose": false,
   "autocomplete": true,
   "bibliofile": "biblio.bib",
   "cite_by": "apalike",
   "current_citInitial": 1,
   "eqLabelWithNumbers": true,
   "eqNumInitial": 1,
   "hotkeys": {
    "equation": "Ctrl-E",
    "itemize": "Ctrl-I"
   },
   "labels_anchors": false,
   "latex_user_defs": false,
   "report_style_numbering": false,
   "user_envs_cfg": false
  }
 },
 "nbformat": 4,
 "nbformat_minor": 2
}
